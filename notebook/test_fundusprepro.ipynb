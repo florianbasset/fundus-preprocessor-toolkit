{
 "cells": [
  {
   "cell_type": "code",
   "execution_count": 1,
   "metadata": {},
   "outputs": [
    {
     "ename": "ModuleNotFoundError",
     "evalue": "No module named 'fundus_prepro.script'",
     "output_type": "error",
     "traceback": [
      "\u001b[0;31m---------------------------------------------------------------------------\u001b[0m",
      "\u001b[0;31mModuleNotFoundError\u001b[0m                       Traceback (most recent call last)",
      "Cell \u001b[0;32mIn[1], line 6\u001b[0m\n\u001b[1;32m      4\u001b[0m \u001b[38;5;28;01mfrom\u001b[39;00m \u001b[38;5;21;01mfundus_prepro\u001b[39;00m\u001b[38;5;21;01m.\u001b[39;00m\u001b[38;5;21;01mutils\u001b[39;00m\u001b[38;5;21;01m.\u001b[39;00m\u001b[38;5;21;01mio\u001b[39;00m \u001b[38;5;28;01mimport\u001b[39;00m read_image\n\u001b[1;32m      5\u001b[0m \u001b[38;5;28;01mfrom\u001b[39;00m \u001b[38;5;21;01mfundus_prepro\u001b[39;00m\u001b[38;5;21;01m.\u001b[39;00m\u001b[38;5;21;01mutils\u001b[39;00m\u001b[38;5;21;01m.\u001b[39;00m\u001b[38;5;21;01mplot\u001b[39;00m \u001b[38;5;28;01mimport\u001b[39;00m plot_image, plot_image_bokeh\n\u001b[0;32m----> 6\u001b[0m \u001b[38;5;28;01mfrom\u001b[39;00m \u001b[38;5;21;01mfundus_prepro\u001b[39;00m\u001b[38;5;21;01m.\u001b[39;00m\u001b[38;5;21;01mscript\u001b[39;00m\u001b[38;5;21;01m.\u001b[39;00m\u001b[38;5;21;01mapply_autobalance\u001b[39;00m \u001b[38;5;28;01mimport\u001b[39;00m apply_autobalance\n\u001b[1;32m      7\u001b[0m \u001b[38;5;28;01mfrom\u001b[39;00m \u001b[38;5;21;01mfundus_prepro\u001b[39;00m\u001b[38;5;21;01m.\u001b[39;00m\u001b[38;5;21;01mscript\u001b[39;00m\u001b[38;5;21;01m.\u001b[39;00m\u001b[38;5;21;01mapply_CLAHE_LAB\u001b[39;00m \u001b[38;5;28;01mimport\u001b[39;00m apply_clahe_lab\n\u001b[1;32m      8\u001b[0m \u001b[38;5;28;01mfrom\u001b[39;00m \u001b[38;5;21;01mfundus_prepro\u001b[39;00m\u001b[38;5;21;01m.\u001b[39;00m\u001b[38;5;21;01mscript\u001b[39;00m\u001b[38;5;21;01m.\u001b[39;00m\u001b[38;5;21;01mapply_CLAHE_RGB\u001b[39;00m \u001b[38;5;28;01mimport\u001b[39;00m apply_clahe_rgb\n",
      "\u001b[0;31mModuleNotFoundError\u001b[0m: No module named 'fundus_prepro.script'"
     ]
    }
   ],
   "source": [
    "%load_ext autoreload\n",
    "%autoreload 2\n",
    "\n",
    "from fundus_prepro.utils.io import read_image\n",
    "from fundus_prepro.utils.plot import plot_image, plot_image_bokeh\n",
    "from fundus_prepro.algo.autobalance import autobalance\n",
    "from fundus_prepro.algo.CLAHE_LAB import clahe_lab\n",
    "from fundus_prepro.algo.CLAHE_RGB import clahe_rgb\n",
    "from fundus_prepro.algo.CLAHE_MGG import clahe_max_green_gsc\n",
    "from fundus_prepro.algo.graham_METH1 import graham_meth1\n",
    "from fundus_prepro.algo.graham_METH2 import graham_meth2\n",
    "from fundus_prepro.algo.sarki import sarki\n",
    "from fundus_prepro.algo.seoud import seoud\n",
    "\n",
    "\n",
    "image = read_image('../data/image_4.jpg')\n",
    "data = graham_meth1(image)\n",
    "\n",
    "plot_image_bokeh(image)\n",
    "plot_image_bokeh(data['image'])\n",
    "\n",
    "\n",
    "\n",
    "\n",
    "\n",
    "\n",
    "\n"
   ]
  }
 ],
 "metadata": {
  "kernelspec": {
   "display_name": "DL",
   "language": "python",
   "name": "python3"
  },
  "language_info": {
   "codemirror_mode": {
    "name": "ipython",
    "version": 3
   },
   "file_extension": ".py",
   "mimetype": "text/x-python",
   "name": "python",
   "nbconvert_exporter": "python",
   "pygments_lexer": "ipython3",
   "version": "3.12.4"
  }
 },
 "nbformat": 4,
 "nbformat_minor": 2
}
