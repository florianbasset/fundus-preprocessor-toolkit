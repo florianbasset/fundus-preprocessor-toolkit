{
 "cells": [
  {
   "cell_type": "code",
   "execution_count": null,
   "metadata": {},
   "outputs": [],
   "source": [
    "%load_ext autoreload\n",
    "%autoreload 2\n",
    "from fundus_prepro.script.core import preprocess_image\n",
    "from fundus_prepro.utils.io import read_image, save_image\n",
    "from fundus_prepro.utils.plot import plot_image\n",
    "import numpy as np\n",
    "\n",
    "image_path = '../data/image_1.png'  \n",
    "output_path = '..data/image_1_preprocessed.png'  \n",
    "origin_path = '../data/image_1.png'  \n",
    "color_space = 'RGB'  # Peut être 'LAB' ou 'HSV' ou RGB\n",
    "preprocessing_method = 'IntensityNorm'  \n",
    "# Peut être 'CLAHE', 'Bilateral', 'Tophat', 'Gaussian', 'IntensityNorm', Blackhat\n",
    "# combinaison5, combinaison4, combinaison3, combinaison2, combinaison1\n",
    "\n",
    "# Lecture \n",
    "image = read_image(image_path)\n",
    "\n",
    "# Prétraitement\n",
    "preprocessed_image = preprocess_image(image_path, color_space, preprocessing_method)\n",
    "print(preprocessed_image.shape)\n",
    "preprocessed_image = (preprocessed_image - preprocessed_image.min((0,1),keepdims=True))/(preprocessed_image.max((0,1), keepdims=True)-preprocessed_image.min((0,1),keepdims=True))\n",
    "print(preprocessed_image.min())\n",
    "print(preprocessed_image.max())\n",
    "# Enregistrement\n",
    "save_image(preprocessed_image, output_path)\n",
    "\n",
    "# Affichage\n",
    "plot_image(image) \n",
    "preprocessed_image = preprocessed_image.astype(np.float32)\n",
    "plot_image(preprocessed_image, title=f'Preprocessed Image ({color_space} - {preprocessing_method})')"
   ]
  },
  {
   "cell_type": "code",
   "execution_count": null,
   "metadata": {},
   "outputs": [],
   "source": []
  }
 ],
 "metadata": {
  "kernelspec": {
   "display_name": "deepLearning",
   "language": "python",
   "name": "python3"
  },
  "language_info": {
   "codemirror_mode": {
    "name": "ipython",
    "version": 3
   },
   "file_extension": ".py",
   "mimetype": "text/x-python",
   "name": "python",
   "nbconvert_exporter": "python",
   "pygments_lexer": "ipython3",
   "version": "3.8.15"
  }
 },
 "nbformat": 4,
 "nbformat_minor": 2
}
