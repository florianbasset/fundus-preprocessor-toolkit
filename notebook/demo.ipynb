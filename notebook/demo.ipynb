{
 "cells": [
  {
   "cell_type": "code",
   "execution_count": 53,
   "metadata": {},
   "outputs": [
    {
     "name": "stdout",
     "output_type": "stream",
     "text": [
      "The autoreload extension is already loaded. To reload it, use:\n",
      "  %reload_ext autoreload\n",
      "The file exists\n"
     ]
    },
    {
     "ename": "TypeError",
     "evalue": "Input image should be a numpy array",
     "output_type": "error",
     "traceback": [
      "\u001b[0;31m---------------------------------------------------------------------------\u001b[0m",
      "\u001b[0;31mTypeError\u001b[0m                                 Traceback (most recent call last)",
      "Cell \u001b[0;32mIn[53], line 20\u001b[0m\n\u001b[1;32m     17\u001b[0m image \u001b[38;5;241m=\u001b[39m read_image(image_path)\n\u001b[1;32m     19\u001b[0m \u001b[38;5;66;03m# Prétraitement\u001b[39;00m\n\u001b[0;32m---> 20\u001b[0m preprocessed_image \u001b[38;5;241m=\u001b[39m \u001b[43mpreprocess_image\u001b[49m\u001b[43m(\u001b[49m\u001b[43mimage_path\u001b[49m\u001b[43m,\u001b[49m\u001b[43m \u001b[49m\u001b[43mcolor_space\u001b[49m\u001b[43m,\u001b[49m\u001b[43m \u001b[49m\u001b[43mpreprocessing_method\u001b[49m\u001b[43m)\u001b[49m\n\u001b[1;32m     21\u001b[0m \u001b[38;5;28mprint\u001b[39m(preprocessed_image\u001b[38;5;241m.\u001b[39mshape)\n\u001b[1;32m     22\u001b[0m preprocessed_image \u001b[38;5;241m=\u001b[39m (preprocessed_image \u001b[38;5;241m-\u001b[39m preprocessed_image\u001b[38;5;241m.\u001b[39mmin((\u001b[38;5;241m0\u001b[39m,\u001b[38;5;241m1\u001b[39m),keepdims\u001b[38;5;241m=\u001b[39m\u001b[38;5;28;01mTrue\u001b[39;00m))\u001b[38;5;241m/\u001b[39m(preprocessed_image\u001b[38;5;241m.\u001b[39mmax((\u001b[38;5;241m0\u001b[39m,\u001b[38;5;241m1\u001b[39m), keepdims\u001b[38;5;241m=\u001b[39m\u001b[38;5;28;01mTrue\u001b[39;00m)\u001b[38;5;241m-\u001b[39mpreprocessed_image\u001b[38;5;241m.\u001b[39mmin((\u001b[38;5;241m0\u001b[39m,\u001b[38;5;241m1\u001b[39m),keepdims\u001b[38;5;241m=\u001b[39m\u001b[38;5;28;01mTrue\u001b[39;00m))\n",
      "File \u001b[0;32m~/Documents/fundus_preprocess_toolkit/src/fundus_prepro/script/core.py:7\u001b[0m, in \u001b[0;36mpreprocess_image\u001b[0;34m(image, color_space, method)\u001b[0m\n\u001b[1;32m      5\u001b[0m \u001b[38;5;28;01mdef\u001b[39;00m \u001b[38;5;21mpreprocess_image\u001b[39m(image, color_space, method):\n\u001b[1;32m      6\u001b[0m     preprocessor \u001b[38;5;241m=\u001b[39m Preprocessor(image)\n\u001b[0;32m----> 7\u001b[0m     image \u001b[38;5;241m=\u001b[39m \u001b[43mpreprocessor\u001b[49m\u001b[38;5;241;43m.\u001b[39;49m\u001b[43mapply_preprocessing\u001b[49m\u001b[43m(\u001b[49m\u001b[43mcolor_space\u001b[49m\u001b[43m,\u001b[49m\u001b[43m \u001b[49m\u001b[43mmethod\u001b[49m\u001b[43m)\u001b[49m\n\u001b[1;32m      8\u001b[0m     \u001b[38;5;28;01mreturn\u001b[39;00m image\n",
      "File \u001b[0;32m~/Documents/fundus_preprocess_toolkit/src/fundus_prepro/script/preprocessor.py:111\u001b[0m, in \u001b[0;36mPreprocessor.apply_preprocessing\u001b[0;34m(self, color_space, method)\u001b[0m\n\u001b[1;32m    110\u001b[0m \u001b[38;5;28;01mdef\u001b[39;00m \u001b[38;5;21mapply_preprocessing\u001b[39m(\u001b[38;5;28mself\u001b[39m, color_space, method):\n\u001b[0;32m--> 111\u001b[0m     \u001b[38;5;28;01mreturn\u001b[39;00m \u001b[38;5;28;43mself\u001b[39;49m\u001b[38;5;241;43m.\u001b[39;49m\u001b[43mapply_operation\u001b[49m\u001b[43m(\u001b[49m\u001b[38;5;28;43mself\u001b[39;49m\u001b[38;5;241;43m.\u001b[39;49m\u001b[43mimage\u001b[49m\u001b[43m,\u001b[49m\u001b[43m \u001b[49m\u001b[43mmethod\u001b[49m\u001b[43m,\u001b[49m\u001b[43m \u001b[49m\u001b[43mcolor_space\u001b[49m\u001b[43m)\u001b[49m\n",
      "File \u001b[0;32m~/Documents/fundus_preprocess_toolkit/src/fundus_prepro/script/preprocessor.py:37\u001b[0m, in \u001b[0;36mPreprocessor.apply_operation\u001b[0;34m(self, image, operation, color_space)\u001b[0m\n\u001b[1;32m     35\u001b[0m     a \u001b[38;5;241m=\u001b[39m \u001b[38;5;28mself\u001b[39m\u001b[38;5;241m.\u001b[39mapply_clahe(image)\n\u001b[1;32m     36\u001b[0m \u001b[38;5;28;01melif\u001b[39;00m operation \u001b[38;5;241m==\u001b[39m \u001b[38;5;124m'\u001b[39m\u001b[38;5;124mSeoud\u001b[39m\u001b[38;5;124m'\u001b[39m:\n\u001b[0;32m---> 37\u001b[0m     a \u001b[38;5;241m=\u001b[39m \u001b[38;5;28;43mself\u001b[39;49m\u001b[38;5;241;43m.\u001b[39;49m\u001b[43mapply_seoud\u001b[49m\u001b[43m(\u001b[49m\u001b[43mimage\u001b[49m\u001b[43m)\u001b[49m\n\u001b[1;32m     38\u001b[0m \u001b[38;5;28;01melif\u001b[39;00m operation \u001b[38;5;241m==\u001b[39m \u001b[38;5;124m'\u001b[39m\u001b[38;5;124millumination\u001b[39m\u001b[38;5;124m'\u001b[39m:\n\u001b[1;32m     39\u001b[0m     a \u001b[38;5;241m=\u001b[39m \u001b[38;5;28mself\u001b[39m\u001b[38;5;241m.\u001b[39millumination_equalization(image,\u001b[38;5;241m1000\u001b[39m)\n",
      "File \u001b[0;32m~/Documents/fundus_preprocess_toolkit/src/fundus_prepro/script/preprocessor.py:181\u001b[0m, in \u001b[0;36mPreprocessor.apply_seoud\u001b[0;34m(self, image)\u001b[0m\n\u001b[1;32m    180\u001b[0m \u001b[38;5;28;01mdef\u001b[39;00m \u001b[38;5;21mapply_seoud\u001b[39m(\u001b[38;5;28mself\u001b[39m, image): \n\u001b[0;32m--> 181\u001b[0m     roi, diameter \u001b[38;5;241m=\u001b[39m \u001b[38;5;28;43mself\u001b[39;49m\u001b[38;5;241;43m.\u001b[39;49m\u001b[43mfundus_roi\u001b[49m\u001b[43m(\u001b[49m\u001b[43m)\u001b[49m\n\u001b[1;32m    182\u001b[0m     illumination \u001b[38;5;241m=\u001b[39m \u001b[38;5;28mself\u001b[39m\u001b[38;5;241m.\u001b[39millumination_equalization(image, diameter)\n\u001b[1;32m    183\u001b[0m     denoise \u001b[38;5;241m=\u001b[39m \u001b[38;5;28mself\u001b[39m\u001b[38;5;241m.\u001b[39mdenoising(illumination, diameter)\n",
      "File \u001b[0;32m~/Documents/fundus_preprocess_toolkit/src/fundus_prepro/script/preprocessor.py:159\u001b[0m, in \u001b[0;36mPreprocessor.fundus_roi\u001b[0;34m(image, mask)\u001b[0m\n\u001b[1;32m    157\u001b[0m \u001b[38;5;28;01mdef\u001b[39;00m \u001b[38;5;21mfundus_roi\u001b[39m(image, mask\u001b[38;5;241m=\u001b[39m\u001b[38;5;28;01mNone\u001b[39;00m):\n\u001b[1;32m    158\u001b[0m     \u001b[38;5;28;01mif\u001b[39;00m \u001b[38;5;129;01mnot\u001b[39;00m \u001b[38;5;28misinstance\u001b[39m(image, np\u001b[38;5;241m.\u001b[39mndarray):\n\u001b[0;32m--> 159\u001b[0m         \u001b[38;5;28;01mraise\u001b[39;00m \u001b[38;5;167;01mTypeError\u001b[39;00m(\u001b[38;5;124m\"\u001b[39m\u001b[38;5;124mInput image should be a numpy array\u001b[39m\u001b[38;5;124m\"\u001b[39m)\n\u001b[1;32m    161\u001b[0m     b,g,r \u001b[38;5;241m=\u001b[39m cv2\u001b[38;5;241m.\u001b[39msplit(image)\n\u001b[1;32m    162\u001b[0m     threshold \u001b[38;5;241m=\u001b[39m \u001b[38;5;241m40\u001b[39m\n",
      "\u001b[0;31mTypeError\u001b[0m: Input image should be a numpy array"
     ]
    }
   ],
   "source": [
    "%load_ext autoreload\n",
    "%autoreload 2\n",
    "from fundus_prepro.script.core import preprocess_image\n",
    "from fundus_prepro.utils.io import read_image, save_image\n",
    "from fundus_prepro.utils.plot import plot_image\n",
    "import numpy as np\n",
    "\n",
    "image_path = '/home/florian/Downloads/image.jpeg'  \n",
    "output_path = '/home/florian/Documents/output_image.png'  \n",
    "origin_path = '/home/florian/Documents/origin_image.png'  \n",
    "color_space = 'RGB'  # Peut être 'LAB' ou 'HSV' ou RGB\n",
    "preprocessing_method = 'Seoud'  \n",
    "# Peut être 'CLAHE', 'Bilateral', 'Tophat', 'Gaussian', 'IntensityNorm', Blackhat\n",
    "# combinaison5, combinaison4, combinaison3, combinaison2, combinaison1\n",
    "\n",
    "# Lecture \n",
    "image = read_image(image_path)\n",
    "\n",
    "# Prétraitement\n",
    "preprocessed_image = preprocess_image(image_path, color_space, preprocessing_method)\n",
    "print(preprocessed_image.shape)\n",
    "preprocessed_image = (preprocessed_image - preprocessed_image.min((0,1),keepdims=True))/(preprocessed_image.max((0,1), keepdims=True)-preprocessed_image.min((0,1),keepdims=True))\n",
    "print(preprocessed_image.min())\n",
    "print(preprocessed_image.max())\n",
    "\n",
    "# Enregistrement\n",
    "save_image(preprocessed_image, output_path)\n",
    "\n",
    "# Affichage\n",
    "plot_image(image) \n",
    "preprocessed_image = preprocessed_image.astype(np.float32)\n",
    "plot_image(preprocessed_image, title=f'Preprocessed Image ({color_space} - {preprocessing_method})')"
   ]
  },
  {
   "cell_type": "code",
   "execution_count": null,
   "metadata": {},
   "outputs": [],
   "source": []
  }
 ],
 "metadata": {
  "kernelspec": {
   "display_name": "deepLearning",
   "language": "python",
   "name": "python3"
  },
  "language_info": {
   "codemirror_mode": {
    "name": "ipython",
    "version": 3
   },
   "file_extension": ".py",
   "mimetype": "text/x-python",
   "name": "python",
   "nbconvert_exporter": "python",
   "pygments_lexer": "ipython3",
   "version": "3.8.15"
  }
 },
 "nbformat": 4,
 "nbformat_minor": 2
}
